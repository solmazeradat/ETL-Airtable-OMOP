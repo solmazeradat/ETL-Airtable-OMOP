{
 "cells": [
  {
   "cell_type": "markdown",
   "metadata": {},
   "source": [
    "# Using Airtable API to build an OMOP CDM table"
   ]
  },
  {
   "cell_type": "markdown",
   "metadata": {},
   "source": [
    "## Prerequisite from Airtable \n",
    "- [NOTE] Before running this script, add your relevant Airtable ``base_id``, ``table_id`` and ``API_KEY`` \n",
    "\n",
    "- **Airtable Setup:** Airtable base with the data you want to extract. Airtable API key from your Account Settings."
   ]
  },
  {
   "cell_type": "code",
   "execution_count": null,
   "metadata": {},
   "outputs": [],
   "source": [
    "# Set up your request URL and headers\n",
    "AIRTABLE_BASE_ID = ''\n",
    "TABLE_ID = ''\n",
    "AIRTABLE_API_KEY = ''"
   ]
  },
  {
   "cell_type": "markdown",
   "metadata": {},
   "source": [
    "## Setup request URL and parameters "
   ]
  },
  {
   "cell_type": "code",
   "execution_count": null,
   "metadata": {},
   "outputs": [],
   "source": [
    "url = f'https://api.airtable.com/v0/{AIRTABLE_BASE_ID}/{TABLE_ID}'"
   ]
  },
  {
   "cell_type": "code",
   "execution_count": null,
   "metadata": {},
   "outputs": [],
   "source": [
    "# Set up parameters for the request (specify the number of records per page)\n",
    "params = {\n",
    "    'pageSize': 100\n",
    "}"
   ]
  },
  {
   "cell_type": "markdown",
   "metadata": {},
   "source": [
    "## Functions"
   ]
  },
  {
   "cell_type": "code",
   "execution_count": null,
   "metadata": {},
   "outputs": [],
   "source": [
    "# Create header function \n",
    "def create_header():\n",
    "    header = {\n",
    "        'Authorization': 'Bearer ' + str(AIRTABLE_API_KEY),\n",
    "        'Content-Type': 'application/json',\n",
    "    }\n",
    "    return header"
   ]
  },
  {
   "cell_type": "code",
   "execution_count": null,
   "metadata": {},
   "outputs": [],
   "source": [
    "# Create function to read sql script and execute command on db table\n",
    "from sqlite3 import OperationalError\n",
    "\n",
    "def executeScriptsFromFile(filename):\n",
    "    fd = open(filename, 'r')\n",
    "    sqlFile = fd.read()\n",
    "    fd.close()\n",
    "\n",
    "    # all SQL commands (split on ';')\n",
    "    sqlCommands = sqlFile.split(';')\n",
    "\n",
    "    # Execute every command from the input file\n",
    "    for command in sqlCommands:\n",
    "        try:\n",
    "            conn.execute(command)\n",
    "            conn.commit()\n",
    "        except OperationalError as msg:\n",
    "            print(\"Command skipped: \", msg)"
   ]
  },
  {
   "cell_type": "markdown",
   "metadata": {},
   "source": [
    "## Import libraries \n",
    "\n",
    "- **Python Environment:** Utilise the ``requests`` library to make API calls to the Airtable endpoint for desired table."
   ]
  },
  {
   "cell_type": "code",
   "execution_count": null,
   "metadata": {},
   "outputs": [],
   "source": [
    "import requests\n",
    "import pandas as pd\n",
    "import json"
   ]
  },
  {
   "cell_type": "markdown",
   "metadata": {},
   "source": [
    "## Extract data \n",
    "\n",
    "- **API Calls:** Construct the URL (Uniform Resource Locator) using the Airtable API ``base URL``, ``base ID``, and ``table ID``.\n",
    "\n",
    "- **Pagination:** Airtable limits records per request. Use the ``offset`` parameter in the URL to retrieve all records iteratively.\n",
    "\n",
    "- **Data Parsing:** Parse the JSON response from the API call to extract the list of records. Each record will be a dictionary with its fields and an ID.\n"
   ]
  },
  {
   "cell_type": "code",
   "execution_count": null,
   "metadata": {},
   "outputs": [],
   "source": [
    "# List all records \n",
    "headers = create_header()\n",
    "\n",
    "all_records = []\n",
    "\n",
    "# Make initial request to fetch first set of records\n",
    "response = requests.get(url, headers=headers, params=params)\n",
    "data = response.json()\n",
    "all_records.extend(data['records'])\n",
    "\n",
    "# Pass this offset into the next request to fetch the next page of records.\n",
    "# Continue making requests with 'offset', adding to the all_records until no more records\n",
    "while 'offset' in data:\n",
    "    params['offset'] = data['offset']\n",
    "    response = requests.get(url, headers=headers, params=params)\n",
    "    data = response.json()\n",
    "    all_records.extend(data['records'])\n",
    "\n",
    "# Now all_records contains all the retrieved records\n",
    "print(len(all_records))\n",
    "\n",
    "# Convert all_records list to a DataFrame (optional)\n",
    "if all_records:\n",
    "  df = pd.DataFrame(all_records)\n",
    "  print(df)\n",
    "else:\n",
    "  print(\"No records found in the table.\")"
   ]
  },
  {
   "cell_type": "code",
   "execution_count": null,
   "metadata": {},
   "outputs": [],
   "source": [
    "print(type(data))\n",
    "print(data)\n",
    "print(type(all_records))\n",
    "print(all_records)\n",
    "print(type(df))\n",
    "print(df)"
   ]
  },
  {
   "cell_type": "code",
   "execution_count": null,
   "metadata": {},
   "outputs": [],
   "source": [
    "data = json.loads(response.text)\n",
    "# List all records from the table\n",
    "for record in data['records']:\n",
    "    print(record['fields']) "
   ]
  },
  {
   "cell_type": "code",
   "execution_count": null,
   "metadata": {},
   "outputs": [],
   "source": [
    "# Extract fields from records and convert to a pandas dataframe\n",
    "df_fields = pd.DataFrame.from_records((record['fields'] for record in all_records))\n",
    "print(df_fields)"
   ]
  },
  {
   "cell_type": "markdown",
   "metadata": {},
   "source": [
    "## Transform data\n",
    "\n",
    "- **Extract fields:** Extract fields from records and transform to a dataframe. \n",
    "- **Temporary databases:**\n",
    "\n",
    "    Load dataframe into temporary database in memory. \n",
    "    \n",
    "    Run SQL script on temporary database and load transformed data into a placeholder database in memory.\n"
   ]
  },
  {
   "cell_type": "code",
   "execution_count": null,
   "metadata": {},
   "outputs": [],
   "source": [
    "import sqlite3\n",
    "\n",
    "# Connect to a temporary database in memory\n",
    "conn = sqlite3.connect(':memory:')\n",
    "\n",
    "# Create a cursor object\n",
    "cursor = conn.cursor()\n",
    "\n",
    "# Define your DataFrame (replace with your actual data)\n",
    "data_to_insert = df_fields\n",
    "# data_to_insert"
   ]
  },
  {
   "cell_type": "code",
   "execution_count": null,
   "metadata": {},
   "outputs": [],
   "source": [
    "# Define your temporary table schema (replace with your column names and data types)\n",
    "sql_create_table = \"\"\"\n",
    "CREATE TEMPORARY table patients (\n",
    "            id            varchar(1000),\n",
    "            birthdate     date,\n",
    "            deathdate     date,\n",
    "            ssn           varchar(100),\n",
    "            drivers       varchar(100),\n",
    "            passport      varchar(100),\n",
    "            prefix        varchar(100),\n",
    "            first         varchar(100),\n",
    "            last          varchar(100),\n",
    "            suffix        varchar(100),\n",
    "            maiden        varchar(100),\n",
    "            marital       varchar(100),\n",
    "            race          varchar(100),\n",
    "            ethnicity     varchar(100),\n",
    "            gender        varchar(100),\n",
    "            birthplace    varchar(100),\n",
    "            address       varchar(100),\n",
    "            city\t\t  varchar(100),\n",
    "            state\t\t  varchar(100),\n",
    "            zip\t\t\t  varchar(100)\n",
    "            );\n",
    "\"\"\"\n",
    "\n",
    "cursor.execute(sql_create_table)\n"
   ]
  },
  {
   "cell_type": "code",
   "execution_count": null,
   "metadata": {},
   "outputs": [],
   "source": [
    "data_to_insert.to_sql('patients', conn, index=False, if_exists='replace')\n",
    "\n",
    "# Query the temporary table\n",
    "query_result = pd.read_sql('SELECT * FROM patients', conn)\n",
    "\n",
    "print(query_result)"
   ]
  },
  {
   "cell_type": "code",
   "execution_count": null,
   "metadata": {},
   "outputs": [],
   "source": [
    "# Placeholder table for Person \n",
    "# Define your temporary table schema (replace with your column names and data types)\n",
    "sql_create_CDM_table = \"\"\"\n",
    "CREATE TEMPORARY table person (\n",
    "\t\t\tperson_id integer NOT NULL,\n",
    "\t\t\tgender_concept_id integer NOT NULL,\n",
    "\t\t\tyear_of_birth integer NOT NULL,\n",
    "\t\t\tmonth_of_birth integer NULL,\n",
    "\t\t\tday_of_birth integer NULL,\n",
    "\t\t\tbirth_datetime datetime NULL,\n",
    "\t\t\trace_concept_id integer NOT NULL,\n",
    "\t\t\tethnicity_concept_id integer NOT NULL,\n",
    "\t\t\tlocation_id integer NULL,\n",
    "\t\t\tprovider_id integer NULL,\n",
    "\t\t\tcare_site_id integer NULL,\n",
    "\t\t\tperson_source_value varchar(50) NULL,\n",
    "\t\t\tgender_source_value varchar(50) NULL,\n",
    "\t\t\tgender_source_concept_id integer NULL,\n",
    "\t\t\trace_source_value varchar(50) NULL,\n",
    "\t\t\trace_source_concept_id integer NULL,\n",
    "\t\t\tethnicity_source_value varchar(50) NULL,\n",
    "\t\t\tethnicity_source_concept_id integer NULL );\n",
    "\"\"\"\n",
    "\n",
    "cursor.execute(sql_create_CDM_table)\n"
   ]
  },
  {
   "cell_type": "code",
   "execution_count": null,
   "metadata": {},
   "outputs": [],
   "source": [
    "executeScriptsFromFile('/Users/solmazeradat/Downloads/insert_person_table.sql')"
   ]
  },
  {
   "cell_type": "code",
   "execution_count": null,
   "metadata": {},
   "outputs": [],
   "source": [
    "# Query the temporary table\n",
    "query_result = pd.read_sql('SELECT * FROM person', conn)\n",
    "print(query_result)"
   ]
  },
  {
   "cell_type": "code",
   "execution_count": null,
   "metadata": {},
   "outputs": [],
   "source": [
    "type(query_result)\n",
    "query_result"
   ]
  },
  {
   "cell_type": "markdown",
   "metadata": {},
   "source": [
    "## Load data\n",
    "\n",
    "- [NOTE] Before running this script, add your relevant Airtable ``base_id``, ``table_id`` and ``API_KEY`` \n",
    "\n",
    "- **Airtable Setup:** Airtable base with the data you want to extract. Airtable API key from your Account Settings.\n",
    "- **API Calls:** Construct the URL using the Airtable API ``base URL``, ``base ID``, and ``table ID``. Use a post request to load records transformed database to the Airtable base.\n"
   ]
  },
  {
   "cell_type": "code",
   "execution_count": null,
   "metadata": {},
   "outputs": [],
   "source": [
    "# Define your Airtable API key and base ID\n",
    "AIRTABLE_BASE_ID = ''\n",
    "TABLE_ID = ''\n",
    "AIRTABLE_API_KEY = ''\n",
    "\n",
    "\n",
    "# Define the URL for the Airtable endpoint\n",
    "url = f'https://api.airtable.com/v0/{AIRTABLE_BASE_ID}/{TABLE_ID}'\n",
    "\n",
    "# Convert DataFrame to dictionary\n",
    "records = query_result.to_dict(orient='records')\n",
    "\n",
    "# Push data to Airtable table\n",
    "for record in records:\n",
    "    response = requests.post(url, headers=headers, json={'fields': record})\n",
    "    # print(response)\n",
    "    if response.status_code == 200:\n",
    "        print(\"Record posted successfully.\")\n",
    "else:\n",
    "    print(f\"Failed to post record with status code {response.status_code}: {response.text}\")"
   ]
  }
 ],
 "metadata": {
  "kernelspec": {
   "display_name": "Python 3",
   "language": "python",
   "name": "python3"
  },
  "language_info": {
   "codemirror_mode": {
    "name": "ipython",
    "version": 3
   },
   "file_extension": ".py",
   "mimetype": "text/x-python",
   "name": "python",
   "nbconvert_exporter": "python",
   "pygments_lexer": "ipython3",
   "version": "3.8.3"
  }
 },
 "nbformat": 4,
 "nbformat_minor": 2
}
